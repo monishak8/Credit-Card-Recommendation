{
  "nbformat": 4,
  "nbformat_minor": 0,
  "metadata": {
    "colab": {
      "provenance": []
    },
    "kernelspec": {
      "name": "python3",
      "display_name": "Python 3"
    },
    "language_info": {
      "name": "python"
    }
  },
  "cells": [
    {
      "cell_type": "markdown",
      "source": [
        "Importing Libraries"
      ],
      "metadata": {
        "id": "y6dy8WSQnJls"
      }
    },
    {
      "cell_type": "code",
      "source": [
        "from sklearn.model_selection import train_test_split\n",
        "from sklearn.ensemble import RandomForestClassifier\n",
        "from sklearn.linear_model import LogisticRegression\n",
        "from sklearn.tree import DecisionTreeClassifier\n",
        "from sklearn.metrics import accuracy_score\n",
        "import pandas as pd"
      ],
      "metadata": {
        "id": "w4FA3gEenOa0"
      },
      "execution_count": null,
      "outputs": []
    },
    {
      "cell_type": "markdown",
      "source": [
        "Read the file"
      ],
      "metadata": {
        "id": "KFLsQ88xnXXS"
      }
    },
    {
      "cell_type": "code",
      "source": [
        "data = pd.read_csv(\"/content/drive/MyDrive/Final Blend Customer & Cards.csv\",encoding='ISO-8859-1')"
      ],
      "metadata": {
        "id": "sCE8ZNLtobyq"
      },
      "execution_count": null,
      "outputs": []
    },
    {
      "cell_type": "markdown",
      "source": [
        "Getting Columns,Defining feature and target variables and Converting Categorical to numerical variables."
      ],
      "metadata": {
        "id": "0Nj1BbDtuSRM"
      }
    },
    {
      "cell_type": "code",
      "source": [
        "data.columns"
      ],
      "metadata": {
        "colab": {
          "base_uri": "https://localhost:8080/"
        },
        "id": "pAdUZ_zItM4F",
        "outputId": "77d16228-c679-4317-b7e5-6b3985114a96"
      },
      "execution_count": null,
      "outputs": [
        {
          "output_type": "execute_result",
          "data": {
            "text/plain": [
              "Index(['Age', 'Gender', 'Income', 'Education', 'Marital Status',\n",
              "       'Number of Children', 'Home Ownership', 'Credit Score',\n",
              "       'Credit Score Value', 'Credit Card Name', 'Name', 'Value'],\n",
              "      dtype='object')"
            ]
          },
          "metadata": {},
          "execution_count": 17
        }
      ]
    },
    {
      "cell_type": "code",
      "source": [
        "X = data[['Age', 'Gender', 'Income', 'Education', 'Marital Status',\n",
        "       'Number of Children', 'Home Ownership', 'Credit Score',\n",
        "       'Credit Score Value']]\n",
        "#X = data.columns\n",
        "#X"
      ],
      "metadata": {
        "id": "n2YAuQQTfRw-"
      },
      "execution_count": null,
      "outputs": []
    },
    {
      "cell_type": "code",
      "source": [
        "# Define features and target variable\n",
        "from sklearn.preprocessing import LabelEncoder\n",
        "X = data[['Age', 'Gender', 'Income', 'Education', 'Marital Status',\n",
        "       'Number of Children', 'Home Ownership', 'Credit Score',\n",
        "       'Credit Score Value']]\n",
        "y = data['Credit Card Name']\n",
        "le = LabelEncoder()\n",
        "# Convert categorical variables to numerical\n",
        "X['Gender'] = le.fit_transform(X['Gender'])\n",
        "X['Education'] = le.fit_transform(X['Education'])\n",
        "X['Marital Status'] = le.fit_transform(X['Marital Status'])\n",
        "X['Home Ownership'] = le.fit_transform(X['Home Ownership'])\n",
        "X['Credit Score'] = le.fit_transform(X['Credit Score'])"
      ],
      "metadata": {
        "colab": {
          "base_uri": "https://localhost:8080/"
        },
        "id": "mIT0rLtMpurb",
        "outputId": "e30ffebc-df87-49e7-c1c5-817cfcba9f2f"
      },
      "execution_count": null,
      "outputs": [
        {
          "output_type": "stream",
          "name": "stderr",
          "text": [
            "<ipython-input-19-232bebac6415>:9: SettingWithCopyWarning: \n",
            "A value is trying to be set on a copy of a slice from a DataFrame.\n",
            "Try using .loc[row_indexer,col_indexer] = value instead\n",
            "\n",
            "See the caveats in the documentation: https://pandas.pydata.org/pandas-docs/stable/user_guide/indexing.html#returning-a-view-versus-a-copy\n",
            "  X['Gender'] = le.fit_transform(X['Gender'])\n",
            "<ipython-input-19-232bebac6415>:10: SettingWithCopyWarning: \n",
            "A value is trying to be set on a copy of a slice from a DataFrame.\n",
            "Try using .loc[row_indexer,col_indexer] = value instead\n",
            "\n",
            "See the caveats in the documentation: https://pandas.pydata.org/pandas-docs/stable/user_guide/indexing.html#returning-a-view-versus-a-copy\n",
            "  X['Education'] = le.fit_transform(X['Education'])\n",
            "<ipython-input-19-232bebac6415>:11: SettingWithCopyWarning: \n",
            "A value is trying to be set on a copy of a slice from a DataFrame.\n",
            "Try using .loc[row_indexer,col_indexer] = value instead\n",
            "\n",
            "See the caveats in the documentation: https://pandas.pydata.org/pandas-docs/stable/user_guide/indexing.html#returning-a-view-versus-a-copy\n",
            "  X['Marital Status'] = le.fit_transform(X['Marital Status'])\n",
            "<ipython-input-19-232bebac6415>:12: SettingWithCopyWarning: \n",
            "A value is trying to be set on a copy of a slice from a DataFrame.\n",
            "Try using .loc[row_indexer,col_indexer] = value instead\n",
            "\n",
            "See the caveats in the documentation: https://pandas.pydata.org/pandas-docs/stable/user_guide/indexing.html#returning-a-view-versus-a-copy\n",
            "  X['Home Ownership'] = le.fit_transform(X['Home Ownership'])\n",
            "<ipython-input-19-232bebac6415>:13: SettingWithCopyWarning: \n",
            "A value is trying to be set on a copy of a slice from a DataFrame.\n",
            "Try using .loc[row_indexer,col_indexer] = value instead\n",
            "\n",
            "See the caveats in the documentation: https://pandas.pydata.org/pandas-docs/stable/user_guide/indexing.html#returning-a-view-versus-a-copy\n",
            "  X['Credit Score'] = le.fit_transform(X['Credit Score'])\n"
          ]
        }
      ]
    },
    {
      "cell_type": "markdown",
      "source": [
        "Displaying Converted varaibles"
      ],
      "metadata": {
        "id": "ONkWDhsGdckK"
      }
    },
    {
      "cell_type": "code",
      "source": [
        "# Display numerical values after converting string columns to numerical\n",
        "print(\"Gender (Numerical):\", X['Gender'].unique())\n",
        "print(\"Education (Numerical):\", X['Education'].unique())\n",
        "print(\"Marital Status (Numerical):\", X['Marital Status'].unique())\n",
        "print(\"Home Ownership (Numerical):\", X['Home Ownership'].unique())\n",
        "print(\"Credit Score (Numerical):\", X['Credit Score'].unique())"
      ],
      "metadata": {
        "colab": {
          "base_uri": "https://localhost:8080/"
        },
        "id": "7kQFy1wb6neq",
        "outputId": "50db44bb-4529-4c93-9178-e6d9bb9de225"
      },
      "execution_count": null,
      "outputs": [
        {
          "output_type": "stream",
          "name": "stdout",
          "text": [
            "Gender (Numerical): [0 1]\n",
            "Education (Numerical): [1 0 3 2 4]\n",
            "Marital Status (Numerical): [1 0]\n",
            "Home Ownership (Numerical): [1 0]\n",
            "Credit Score (Numerical): [1 0 2]\n"
          ]
        }
      ]
    },
    {
      "cell_type": "code",
      "source": [
        "gender = X['Gender'].unique()\n",
        "education = X['Education'].unique()\n",
        "marital_status = X['Marital Status'].unique()\n",
        "home_ownership = X['Home Ownership'].unique()\n",
        "credit_score = X['Credit Score'].unique()"
      ],
      "metadata": {
        "id": "Jnzz57Zd9dd8"
      },
      "execution_count": null,
      "outputs": []
    },
    {
      "cell_type": "markdown",
      "source": [
        "Splitting Dataset and Training Models"
      ],
      "metadata": {
        "id": "eTSSG6dKdmWH"
      }
    },
    {
      "cell_type": "code",
      "source": [
        "from sklearn.model_selection import train_test_split\n",
        "from sklearn.neighbors import KNeighborsClassifier\n",
        "from sklearn.tree import DecisionTreeClassifier\n",
        "from sklearn.metrics import accuracy_score\n",
        "\n",
        "# Split the dataset into training and testing sets\n",
        "X_train, X_test, y_train, y_test = train_test_split(X, y, test_size=0.2, random_state=42)\n",
        "\n",
        "# Initialize and train the KNN classifier\n",
        "knn = KNeighborsClassifier()\n",
        "knn.fit(X_train, y_train)\n",
        "\n",
        "# Initialize and train the Decision Tree classifier\n",
        "dtree = DecisionTreeClassifier()\n",
        "dtree.fit(X_train, y_train)\n",
        "\n",
        "# Initialize and train the logistic regression model\n",
        "model = LogisticRegression(max_iter=1000)  # Increase max_iter if needed\n",
        "model.fit(X_train, y_train)\n",
        "\n",
        "# Evaluate the models on the testing set\n",
        "y_pred = model.predict(X_test)\n",
        "accuracy = accuracy_score(y_test, y_pred)\n",
        "print(f\"Accuracy on the testing set: {accuracy}\")\n",
        "\n",
        "y_pred_knn = knn.predict(X_test)\n",
        "accuracy_knn = accuracy_score(y_test, y_pred_knn)\n",
        "print(f\"KNN Accuracy on the testing set: {accuracy_knn}\")\n",
        "\n",
        "y_pred_dtree = dtree.predict(X_test)\n",
        "accuracy_dtree = accuracy_score(y_test, y_pred_dtree)\n",
        "print(f\"Decision Tree Accuracy on the testing set: {accuracy_dtree}\")\n"
      ],
      "metadata": {
        "colab": {
          "base_uri": "https://localhost:8080/"
        },
        "id": "-zjrivbZb-8H",
        "outputId": "3b5d1fdc-c656-4fe1-9faa-73a237ca3828"
      },
      "execution_count": null,
      "outputs": [
        {
          "output_type": "stream",
          "name": "stdout",
          "text": [
            "Accuracy on the testing set: 0.24675324675324675\n",
            "KNN Accuracy on the testing set: 0.2727272727272727\n",
            "Decision Tree Accuracy on the testing set: 0.15889992360580596\n"
          ]
        }
      ]
    },
    {
      "cell_type": "markdown",
      "source": [
        "Get User Input and Predict"
      ],
      "metadata": {
        "id": "ixb2IY2ot9fu"
      }
    },
    {
      "cell_type": "code",
      "source": [
        "# Collect user input\n",
        "age = int(input(\"Enter your age: \"))\n",
        "gender = int(input(\"Enter your gender (Female/Male)[0 1]: \"))\n",
        "income = int(input(\"Enter your income: \"))\n",
        "education = int(input(\"Enter your education (Bachelor's/Master's/Doctorate/High School Diploma/Associate's)[1 0 3 2 4]: \"))\n",
        "marital_status = int(input(\"Enter your marital status (Single/Married)[1 0]: \"))\n",
        "num_children = int(input(\"Enter the number of children: \"))\n",
        "home_ownership = int(input(\"Enter your home ownership status (Rented/Owned)[1 0]: \"))\n",
        "credit_score_value = int(input(\"Enter your credit score value: \"))\n",
        "credit_score = int(input(\"Enter your credit score [1 0 2]:(1 : 670-850)(0 : 580-669)(2 : 300-579) \"))\n",
        "\n",
        "# Combine user input with the rest of the features\n",
        "user_input = [[age, gender, income, education, marital_status, num_children, home_ownership, credit_score, credit_score_value]]\n",
        "\n",
        "# Make predictions using the trained classifiers\n",
        "prediction = model.predict(user_input)\n",
        "user_pred_knn = knn.predict(user_input)\n",
        "user_pred_dtree = dtree.predict(user_input)\n",
        "\n",
        "# Display the predicted credit card for the user input\n",
        "print(f\"Logistic Regression Predicted Credit Card: {prediction[0]}\")\n",
        "print(f\"KNN Predicted Credit Card: {user_pred_knn[0]}\")\n",
        "print(f\"Decision Tree Predicted Credit Card: {user_pred_dtree[0]}\\n\")\n"
      ],
      "metadata": {
        "colab": {
          "base_uri": "https://localhost:8080/"
        },
        "id": "VC7vrHJ9cBXW",
        "outputId": "a2c9cd76-ed11-4cfd-ed98-fd66635c4e73"
      },
      "execution_count": null,
      "outputs": [
        {
          "output_type": "stream",
          "name": "stdout",
          "text": [
            "Enter your age: 45\n",
            "Enter your gender (Female/Male)[0 1]: 1\n",
            "Enter your income: 47000\n",
            "Enter your education (Bachelor's/Master's/Doctorate/High School Diploma/Associate's)[1 0 3 2 4]: 2\n",
            "Enter your marital status (Single/Married)[1 0]: 1\n",
            "Enter the number of children: 0\n",
            "Enter your home ownership status (Rented/Owned)[1 0]: 1\n",
            "Enter your credit score value: 478\n",
            "Enter your credit score [1 0 2]:(1 : 670-850)(0 : 580-669)(2 : 300-579) 2\n",
            "Logistic Regression Predicted Credit Card: Ink Business Preferred Credit Card\n",
            "KNN Predicted Credit Card: Chase Freedom Unlimited®\n",
            "Decision Tree Predicted Credit Card: Chase Freedom Rise\n",
            "\n"
          ]
        },
        {
          "output_type": "stream",
          "name": "stderr",
          "text": [
            "/usr/local/lib/python3.10/dist-packages/sklearn/base.py:439: UserWarning: X does not have valid feature names, but LogisticRegression was fitted with feature names\n",
            "  warnings.warn(\n",
            "/usr/local/lib/python3.10/dist-packages/sklearn/base.py:439: UserWarning: X does not have valid feature names, but KNeighborsClassifier was fitted with feature names\n",
            "  warnings.warn(\n",
            "/usr/local/lib/python3.10/dist-packages/sklearn/base.py:439: UserWarning: X does not have valid feature names, but DecisionTreeClassifier was fitted with feature names\n",
            "  warnings.warn(\n"
          ]
        }
      ]
    }
  ]
}